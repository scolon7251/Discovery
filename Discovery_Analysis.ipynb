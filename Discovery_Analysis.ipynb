{
 "cells": [
  {
   "cell_type": "code",
   "execution_count": 118,
   "metadata": {},
   "outputs": [],
   "source": [
    "##bring in necessary libraries\n",
    "import pandas as pd\n",
    "import numpy as np\n",
    "import seaborn as sns\n",
    "from IPython.display import display\n",
    "from datetime import datetime as dt"
   ]
  },
  {
   "cell_type": "code",
   "execution_count": 119,
   "metadata": {},
   "outputs": [],
   "source": [
    "#read in csv files\n",
    "install_tbl = pd.read_csv('install_table.csv')\n",
    "event_tbl = pd.read_csv('event_table.csv')"
   ]
  },
  {
   "cell_type": "code",
   "execution_count": 120,
   "metadata": {},
   "outputs": [
    {
     "data": {
      "text/plain": [
       "(25404, 13)"
      ]
     },
     "metadata": {},
     "output_type": "display_data"
    },
    {
     "data": {
      "text/plain": [
       "(1133124, 17)"
      ]
     },
     "metadata": {},
     "output_type": "display_data"
    }
   ],
   "source": [
    "#get size of the dataframes\n",
    "display(install_tbl.shape)\n",
    "display(event_tbl.shape)"
   ]
  },
  {
   "cell_type": "code",
   "execution_count": 121,
   "metadata": {},
   "outputs": [
    {
     "data": {
      "text/html": [
       "<div>\n",
       "<table border=\"1\" class=\"dataframe\">\n",
       "  <thead>\n",
       "    <tr style=\"text-align: right;\">\n",
       "      <th></th>\n",
       "      <th>platform</th>\n",
       "      <th>viewer_id</th>\n",
       "      <th>cross_app_id</th>\n",
       "      <th>install_id</th>\n",
       "      <th>install_date_utc</th>\n",
       "      <th>received_date</th>\n",
       "      <th>install_receipt_status</th>\n",
       "      <th>device_model</th>\n",
       "      <th>install_device_version</th>\n",
       "      <th>geo_city</th>\n",
       "      <th>geo_region</th>\n",
       "      <th>geo_country_code</th>\n",
       "      <th>attribution_network_id</th>\n",
       "    </tr>\n",
       "  </thead>\n",
       "  <tbody>\n",
       "    <tr>\n",
       "      <th>0</th>\n",
       "      <td>ios</td>\n",
       "      <td>KI806222475DC542C88F46C5DD5C6DBA5B</td>\n",
       "      <td>14563241-177e-442e-b35a-206d1675907b</td>\n",
       "      <td>267652</td>\n",
       "      <td>2016-08-31 01:48:49</td>\n",
       "      <td>2016-11-23</td>\n",
       "      <td>null</td>\n",
       "      <td>iPad</td>\n",
       "      <td>9.3.3</td>\n",
       "      <td>Portland</td>\n",
       "      <td>TX</td>\n",
       "      <td>US</td>\n",
       "      <td>NaN</td>\n",
       "    </tr>\n",
       "    <tr>\n",
       "      <th>1</th>\n",
       "      <td>ios</td>\n",
       "      <td>KI010F235865BE4BAC92CCC342C591EF22</td>\n",
       "      <td>6cf81060-f50d-48e6-a730-bc46b46b62d0</td>\n",
       "      <td>269861</td>\n",
       "      <td>2016-09-01 14:49:42</td>\n",
       "      <td>2016-11-25</td>\n",
       "      <td>null</td>\n",
       "      <td>iPad</td>\n",
       "      <td>9.3.1</td>\n",
       "      <td>College Park</td>\n",
       "      <td>MD</td>\n",
       "      <td>US</td>\n",
       "      <td>NaN</td>\n",
       "    </tr>\n",
       "    <tr>\n",
       "      <th>2</th>\n",
       "      <td>ios</td>\n",
       "      <td>KI66FBF6EDB17646F380ED2A6606A2697E</td>\n",
       "      <td>f2a8abf6-1f0d-43d8-beec-181eb1027f27</td>\n",
       "      <td>363023</td>\n",
       "      <td>2016-09-10 21:05:10</td>\n",
       "      <td>2016-12-31</td>\n",
       "      <td>null</td>\n",
       "      <td>iPhone</td>\n",
       "      <td>9.3.5</td>\n",
       "      <td>NaN</td>\n",
       "      <td>OK</td>\n",
       "      <td>US</td>\n",
       "      <td>NaN</td>\n",
       "    </tr>\n",
       "    <tr>\n",
       "      <th>3</th>\n",
       "      <td>ios</td>\n",
       "      <td>KIDD1AF54DECB6466F9E3F4B28C12FD497</td>\n",
       "      <td>b4fee0ac-d2be-4045-b563-8db8f53cdbe6</td>\n",
       "      <td>235037</td>\n",
       "      <td>2016-09-15 15:53:37</td>\n",
       "      <td>2016-11-07</td>\n",
       "      <td>null</td>\n",
       "      <td>iPhone</td>\n",
       "      <td>9.3.5</td>\n",
       "      <td>Zanesville</td>\n",
       "      <td>OH</td>\n",
       "      <td>US</td>\n",
       "      <td>NaN</td>\n",
       "    </tr>\n",
       "    <tr>\n",
       "      <th>4</th>\n",
       "      <td>ios</td>\n",
       "      <td>KI7E995BB1F1BB4450A97E4BBE7421EBD5</td>\n",
       "      <td>772bf6d1-7cd2-42e7-b983-fded7166a0ff</td>\n",
       "      <td>288074</td>\n",
       "      <td>2016-10-12 03:22:37</td>\n",
       "      <td>2016-12-05</td>\n",
       "      <td>no_receipt</td>\n",
       "      <td>iPhone</td>\n",
       "      <td>10.0.2</td>\n",
       "      <td>Grand Junction</td>\n",
       "      <td>CO</td>\n",
       "      <td>US</td>\n",
       "      <td>NaN</td>\n",
       "    </tr>\n",
       "  </tbody>\n",
       "</table>\n",
       "</div>"
      ],
      "text/plain": [
       "  platform                           viewer_id  \\\n",
       "0      ios  KI806222475DC542C88F46C5DD5C6DBA5B   \n",
       "1      ios  KI010F235865BE4BAC92CCC342C591EF22   \n",
       "2      ios  KI66FBF6EDB17646F380ED2A6606A2697E   \n",
       "3      ios  KIDD1AF54DECB6466F9E3F4B28C12FD497   \n",
       "4      ios  KI7E995BB1F1BB4450A97E4BBE7421EBD5   \n",
       "\n",
       "                           cross_app_id  install_id     install_date_utc  \\\n",
       "0  14563241-177e-442e-b35a-206d1675907b      267652  2016-08-31 01:48:49   \n",
       "1  6cf81060-f50d-48e6-a730-bc46b46b62d0      269861  2016-09-01 14:49:42   \n",
       "2  f2a8abf6-1f0d-43d8-beec-181eb1027f27      363023  2016-09-10 21:05:10   \n",
       "3  b4fee0ac-d2be-4045-b563-8db8f53cdbe6      235037  2016-09-15 15:53:37   \n",
       "4  772bf6d1-7cd2-42e7-b983-fded7166a0ff      288074  2016-10-12 03:22:37   \n",
       "\n",
       "  received_date install_receipt_status device_model install_device_version  \\\n",
       "0    2016-11-23                   null         iPad                  9.3.3   \n",
       "1    2016-11-25                   null         iPad                  9.3.1   \n",
       "2    2016-12-31                   null       iPhone                  9.3.5   \n",
       "3    2016-11-07                   null       iPhone                  9.3.5   \n",
       "4    2016-12-05             no_receipt       iPhone                 10.0.2   \n",
       "\n",
       "         geo_city geo_region geo_country_code attribution_network_id  \n",
       "0        Portland         TX               US                    NaN  \n",
       "1    College Park         MD               US                    NaN  \n",
       "2             NaN         OK               US                    NaN  \n",
       "3      Zanesville         OH               US                    NaN  \n",
       "4  Grand Junction         CO               US                    NaN  "
      ]
     },
     "metadata": {},
     "output_type": "display_data"
    }
   ],
   "source": [
    "#display first five rows of the install table\n",
    "display(install_tbl.head(5))"
   ]
  },
  {
   "cell_type": "code",
   "execution_count": 122,
   "metadata": {},
   "outputs": [
    {
     "data": {
      "text/html": [
       "<div>\n",
       "<table border=\"1\" class=\"dataframe\">\n",
       "  <thead>\n",
       "    <tr style=\"text-align: right;\">\n",
       "      <th></th>\n",
       "      <th>platform</th>\n",
       "      <th>viewer_id</th>\n",
       "      <th>cross_app_id</th>\n",
       "      <th>install_date_utc</th>\n",
       "      <th>received_date</th>\n",
       "      <th>install_receipt_status</th>\n",
       "      <th>device_model</th>\n",
       "      <th>install_device_version</th>\n",
       "      <th>geo_city</th>\n",
       "      <th>geo_region</th>\n",
       "      <th>geo_country_code</th>\n",
       "      <th>attribution_network_id</th>\n",
       "    </tr>\n",
       "  </thead>\n",
       "  <tbody>\n",
       "    <tr>\n",
       "      <th>count</th>\n",
       "      <td>25404</td>\n",
       "      <td>25404</td>\n",
       "      <td>21626</td>\n",
       "      <td>25404</td>\n",
       "      <td>25404</td>\n",
       "      <td>25404</td>\n",
       "      <td>25402</td>\n",
       "      <td>25400</td>\n",
       "      <td>23004</td>\n",
       "      <td>24270</td>\n",
       "      <td>25402</td>\n",
       "      <td>4638</td>\n",
       "    </tr>\n",
       "    <tr>\n",
       "      <th>unique</th>\n",
       "      <td>2</td>\n",
       "      <td>25000</td>\n",
       "      <td>21276</td>\n",
       "      <td>24922</td>\n",
       "      <td>65</td>\n",
       "      <td>4</td>\n",
       "      <td>1029</td>\n",
       "      <td>52</td>\n",
       "      <td>4424</td>\n",
       "      <td>121</td>\n",
       "      <td>96</td>\n",
       "      <td>8</td>\n",
       "    </tr>\n",
       "    <tr>\n",
       "      <th>top</th>\n",
       "      <td>ios</td>\n",
       "      <td>KA1f994889bc554113931c57cb4a6a6e8d</td>\n",
       "      <td>a89c72df-744c-46a4-88da-ee6e935bc909</td>\n",
       "      <td>2016-12-10 19:50:41</td>\n",
       "      <td>2016-12-10</td>\n",
       "      <td>no_receipt</td>\n",
       "      <td>iPhone</td>\n",
       "      <td>6.0.1</td>\n",
       "      <td>Houston</td>\n",
       "      <td>CA</td>\n",
       "      <td>US</td>\n",
       "      <td>90</td>\n",
       "    </tr>\n",
       "    <tr>\n",
       "      <th>freq</th>\n",
       "      <td>13381</td>\n",
       "      <td>2</td>\n",
       "      <td>2</td>\n",
       "      <td>4</td>\n",
       "      <td>807</td>\n",
       "      <td>17255</td>\n",
       "      <td>9055</td>\n",
       "      <td>6065</td>\n",
       "      <td>338</td>\n",
       "      <td>2501</td>\n",
       "      <td>24845</td>\n",
       "      <td>3912</td>\n",
       "    </tr>\n",
       "  </tbody>\n",
       "</table>\n",
       "</div>"
      ],
      "text/plain": [
       "       platform                           viewer_id  \\\n",
       "count     25404                               25404   \n",
       "unique        2                               25000   \n",
       "top         ios  KA1f994889bc554113931c57cb4a6a6e8d   \n",
       "freq      13381                                   2   \n",
       "\n",
       "                                cross_app_id     install_date_utc  \\\n",
       "count                                  21626                25404   \n",
       "unique                                 21276                24922   \n",
       "top     a89c72df-744c-46a4-88da-ee6e935bc909  2016-12-10 19:50:41   \n",
       "freq                                       2                    4   \n",
       "\n",
       "       received_date install_receipt_status device_model  \\\n",
       "count          25404                  25404        25402   \n",
       "unique            65                      4         1029   \n",
       "top       2016-12-10             no_receipt       iPhone   \n",
       "freq             807                  17255         9055   \n",
       "\n",
       "       install_device_version geo_city geo_region geo_country_code  \\\n",
       "count                   25400    23004      24270            25402   \n",
       "unique                     52     4424        121               96   \n",
       "top                     6.0.1  Houston         CA               US   \n",
       "freq                     6065      338       2501            24845   \n",
       "\n",
       "       attribution_network_id  \n",
       "count                    4638  \n",
       "unique                      8  \n",
       "top                        90  \n",
       "freq                     3912  "
      ]
     },
     "execution_count": 122,
     "metadata": {},
     "output_type": "execute_result"
    }
   ],
   "source": [
    "#get simple summary of the data\n",
    "install_tbl.describe(include=[np.object])"
   ]
  },
  {
   "cell_type": "markdown",
   "metadata": {},
   "source": [
    "One thing that jumps out is the frequency count of 2 for \"viewer_id\".  It's possible that the same viewer id exists for the separate platforms, but it's more likely that there are duplicate rows.  "
   ]
  },
  {
   "cell_type": "code",
   "execution_count": 123,
   "metadata": {},
   "outputs": [
    {
     "data": {
      "text/plain": [
       "(404, 13)"
      ]
     },
     "execution_count": 123,
     "metadata": {},
     "output_type": "execute_result"
    }
   ],
   "source": [
    "install_tbl[install_tbl.duplicated()].shape"
   ]
  },
  {
   "cell_type": "markdown",
   "metadata": {},
   "source": [
    "There are 404 duplicate rows.  I remove these rows and re-run the describe method.  "
   ]
  },
  {
   "cell_type": "code",
   "execution_count": 124,
   "metadata": {},
   "outputs": [
    {
     "data": {
      "text/html": [
       "<div>\n",
       "<table border=\"1\" class=\"dataframe\">\n",
       "  <thead>\n",
       "    <tr style=\"text-align: right;\">\n",
       "      <th></th>\n",
       "      <th>platform</th>\n",
       "      <th>viewer_id</th>\n",
       "      <th>cross_app_id</th>\n",
       "      <th>install_date_utc</th>\n",
       "      <th>received_date</th>\n",
       "      <th>install_receipt_status</th>\n",
       "      <th>device_model</th>\n",
       "      <th>install_device_version</th>\n",
       "      <th>geo_city</th>\n",
       "      <th>geo_region</th>\n",
       "      <th>geo_country_code</th>\n",
       "      <th>attribution_network_id</th>\n",
       "    </tr>\n",
       "  </thead>\n",
       "  <tbody>\n",
       "    <tr>\n",
       "      <th>count</th>\n",
       "      <td>25000</td>\n",
       "      <td>25000</td>\n",
       "      <td>21276</td>\n",
       "      <td>25000</td>\n",
       "      <td>25000</td>\n",
       "      <td>25000</td>\n",
       "      <td>24998</td>\n",
       "      <td>24996</td>\n",
       "      <td>22645</td>\n",
       "      <td>23876</td>\n",
       "      <td>24998</td>\n",
       "      <td>4536</td>\n",
       "    </tr>\n",
       "    <tr>\n",
       "      <th>unique</th>\n",
       "      <td>2</td>\n",
       "      <td>25000</td>\n",
       "      <td>21276</td>\n",
       "      <td>24922</td>\n",
       "      <td>65</td>\n",
       "      <td>4</td>\n",
       "      <td>1029</td>\n",
       "      <td>52</td>\n",
       "      <td>4424</td>\n",
       "      <td>121</td>\n",
       "      <td>96</td>\n",
       "      <td>8</td>\n",
       "    </tr>\n",
       "    <tr>\n",
       "      <th>top</th>\n",
       "      <td>ios</td>\n",
       "      <td>KI8CE2F001704540B48FFF7434CC528650</td>\n",
       "      <td>114c0fca-8187-40fe-9333-39457989f212</td>\n",
       "      <td>2016-11-23 23:57:12</td>\n",
       "      <td>2016-12-27</td>\n",
       "      <td>no_receipt</td>\n",
       "      <td>iPhone</td>\n",
       "      <td>6.0.1</td>\n",
       "      <td>Houston</td>\n",
       "      <td>CA</td>\n",
       "      <td>US</td>\n",
       "      <td>90</td>\n",
       "    </tr>\n",
       "    <tr>\n",
       "      <th>freq</th>\n",
       "      <td>13188</td>\n",
       "      <td>1</td>\n",
       "      <td>1</td>\n",
       "      <td>2</td>\n",
       "      <td>559</td>\n",
       "      <td>16911</td>\n",
       "      <td>8923</td>\n",
       "      <td>5958</td>\n",
       "      <td>334</td>\n",
       "      <td>2452</td>\n",
       "      <td>24442</td>\n",
       "      <td>3812</td>\n",
       "    </tr>\n",
       "  </tbody>\n",
       "</table>\n",
       "</div>"
      ],
      "text/plain": [
       "       platform                           viewer_id  \\\n",
       "count     25000                               25000   \n",
       "unique        2                               25000   \n",
       "top         ios  KI8CE2F001704540B48FFF7434CC528650   \n",
       "freq      13188                                   1   \n",
       "\n",
       "                                cross_app_id     install_date_utc  \\\n",
       "count                                  21276                25000   \n",
       "unique                                 21276                24922   \n",
       "top     114c0fca-8187-40fe-9333-39457989f212  2016-11-23 23:57:12   \n",
       "freq                                       1                    2   \n",
       "\n",
       "       received_date install_receipt_status device_model  \\\n",
       "count          25000                  25000        24998   \n",
       "unique            65                      4         1029   \n",
       "top       2016-12-27             no_receipt       iPhone   \n",
       "freq             559                  16911         8923   \n",
       "\n",
       "       install_device_version geo_city geo_region geo_country_code  \\\n",
       "count                   24996    22645      23876            24998   \n",
       "unique                     52     4424        121               96   \n",
       "top                     6.0.1  Houston         CA               US   \n",
       "freq                     5958      334       2452            24442   \n",
       "\n",
       "       attribution_network_id  \n",
       "count                    4536  \n",
       "unique                      8  \n",
       "top                        90  \n",
       "freq                     3812  "
      ]
     },
     "execution_count": 124,
     "metadata": {},
     "output_type": "execute_result"
    }
   ],
   "source": [
    "#remove duplicates\n",
    "install_tbl = install_tbl.drop_duplicates()\n",
    "install_tbl.describe(include=[np.object])"
   ]
  },
  {
   "cell_type": "markdown",
   "metadata": {},
   "source": [
    "The summary above provides potentially useful information.  \n",
    "\n",
    "iOS edges out Android as the top platform but only by a few percentage points about 52% to 48%.  \n",
    "\n",
    "About 68% of installs have a receipt status of \"no_receipt\"\n",
    "\n",
    "90 is the attribution_network_id for close to 85% of observations, indicating that most of the installation can be attributed to one specific network.  \n",
    "\n",
    "Location_Variables:\n",
    "Close to 98% of installs were done in the US. This leads me to assume that the app has generally been marketed in the US to English speakers.  It's interesting to see that Houston has the highest number of installs.  That may be worth investigating.  Why Houston?\n",
    "I see that the 'geo_region' field consists of state codes, pure numeric(82), and alphanumeric('I9')  To properly use this column for analysis, it would be best to understand what the non-state codes represent.  \n",
    "\n",
    "\n",
    "We can see that there are 1029 unique device models, with iPhone being the most common.  The amount of unique devices initially seems overwhelming, so let's look at the the top perfromers. "
   ]
  },
  {
   "cell_type": "code",
   "execution_count": 125,
   "metadata": {},
   "outputs": [
    {
     "data": {
      "text/plain": [
       "iPhone               8923\n",
       "iPad                 4156\n",
       "Samsung SM-G930V      291\n",
       "Samsung SM-G935V      235\n",
       "Samsung SM-G920V      229\n",
       "KFFOWI                208\n",
       "LGMS330               208\n",
       "Z981                  196\n",
       "Samsung SM-G900V      187\n",
       "XT1585                184\n",
       "Samsung SM-G930P      168\n",
       "Samsung SM-G550T1     167\n",
       "Samsung SM-G935A      140\n",
       "Samsung SM-N920V      135\n",
       "Samsung SM-G900A      120\n",
       "Name: device_model, dtype: int64"
      ]
     },
     "execution_count": 125,
     "metadata": {},
     "output_type": "execute_result"
    }
   ],
   "source": [
    "install_tbl['device_model'].value_counts()[0:15]"
   ]
  },
  {
   "cell_type": "markdown",
   "metadata": {},
   "source": [
    "It seems that after the iPhone and iPad, most of the list consists of Samsung variants.  According to Wikipedia, \"Since September 2013, model numbers of devices in the Samsung Galaxy series are in the \"SM-xxxx\" format (excluding the Galaxy J SC-02F&SGH-N075T). Previously, from 2009 until September 2013, the model numbers were in the \"GT-xxxx\" format\".  Knowing this, it would probably be best to simplify the different Samsung variant names, perhaps to as simply \"Samsung Galaxy New\", for post September 2013 models and \"Samsung Galaxy Old\", for those made previous to Sept 2013."
   ]
  },
  {
   "cell_type": "code",
   "execution_count": 126,
   "metadata": {},
   "outputs": [
    {
     "data": {
      "text/plain": [
       "(6380, 13)"
      ]
     },
     "metadata": {},
     "output_type": "display_data"
    },
    {
     "data": {
      "text/plain": [
       "(5914, 13)"
      ]
     },
     "metadata": {},
     "output_type": "display_data"
    },
    {
     "data": {
      "text/plain": [
       "(93, 13)"
      ]
     },
     "metadata": {},
     "output_type": "display_data"
    }
   ],
   "source": [
    "display(install_tbl.loc[install_tbl['device_model'].str.contains(\"Samsung\",na=False),].shape)\n",
    "display(install_tbl.loc[install_tbl['device_model'].str.contains(\"Samsung SM\",na=False),].shape)\n",
    "display(install_tbl.loc[install_tbl['device_model'].str.contains(\"Samsung GT\",na=False),].shape)"
   ]
  },
  {
   "cell_type": "markdown",
   "metadata": {},
   "source": [
    "We can see that over 25.5% of the models are listed as Samsung--the vast majority of which are the ST newer Galaxy Models. \n",
    "\n",
    "Furthermore, digging deeper, I found that there are over 1500 LG variants and over 200 HTC variants.  So, for analysis, it would be wise to collapse the many unique identifiers into a manageable number.  "
   ]
  },
  {
   "cell_type": "code",
   "execution_count": 127,
   "metadata": {},
   "outputs": [
    {
     "data": {
      "text/plain": [
       "LGMS330    208\n",
       "KFFOWI     208\n",
       "Z981       196\n",
       "XT1585     184\n",
       "iPod       109\n",
       "XT1254     107\n",
       "LGMS631     74\n",
       "LGLS775     72\n",
       "XT1650      71\n",
       "5054N       66\n",
       "LGMS550     66\n",
       "KFGIWI      60\n",
       "XT1080      60\n",
       "LGMS428     56\n",
       "QTAQZ3      55\n",
       "Name: device_model, dtype: int64"
      ]
     },
     "execution_count": 127,
     "metadata": {},
     "output_type": "execute_result"
    }
   ],
   "source": [
    "install_tbl[install_tbl['device_model'].str.contains(\"Samsung|iPad|iPhone\")==False]['device_model'].value_counts()[0:15]"
   ]
  },
  {
   "cell_type": "markdown",
   "metadata": {},
   "source": [
    "What about the date values.  Is there anything intersting to see there?"
   ]
  },
  {
   "cell_type": "code",
   "execution_count": 128,
   "metadata": {},
   "outputs": [
    {
     "data": {
      "text/plain": [
       "<matplotlib.axes._subplots.AxesSubplot at 0x111a4be10>"
      ]
     },
     "execution_count": 128,
     "metadata": {},
     "output_type": "execute_result"
    },
    {
     "data": {
      "image/png": "[encoded data removed]",
      "text/plain": [
       "<Figure size 720x360 with 1 Axes>"
      ]
     },
     "metadata": {
      "needs_background": "light"
     },
     "output_type": "display_data"
    }
   ],
   "source": [
    "install_tbl['received_date'].value_counts().sort_index().plot(figsize=(10,5))"
   ]
  },
  {
   "attachments": {},
   "cell_type": "markdown",
   "metadata": {},
   "source": [
    "Generally, the installations/day vacillated between 300 and 500, with a large spike—total count 807--on 12/10/16.  There were only 4 installs on 11/19/2016.  That may be worth looking into."
   ]
  },
  {
   "cell_type": "markdown",
   "metadata": {},
   "source": [
    "## Event Table EDA"
   ]
  },
  {
   "cell_type": "code",
   "execution_count": 129,
   "metadata": {},
   "outputs": [
    {
     "data": {
      "text/html": [
       "<div>\n",
       "<table border=\"1\" class=\"dataframe\">\n",
       "  <thead>\n",
       "    <tr style=\"text-align: right;\">\n",
       "      <th></th>\n",
       "      <th>platform</th>\n",
       "      <th>viewer_id</th>\n",
       "      <th>cross_app_id</th>\n",
       "      <th>cross_app_id.1</th>\n",
       "      <th>install_id</th>\n",
       "      <th>received_date</th>\n",
       "      <th>timestamp</th>\n",
       "      <th>authenticated</th>\n",
       "      <th>event_name</th>\n",
       "      <th>video_id</th>\n",
       "      <th>show_id</th>\n",
       "      <th>season_number</th>\n",
       "      <th>episode_number</th>\n",
       "      <th>attribution_network_id</th>\n",
       "      <th>geo_city</th>\n",
       "      <th>geo_region</th>\n",
       "      <th>geo_country</th>\n",
       "    </tr>\n",
       "  </thead>\n",
       "  <tbody>\n",
       "    <tr>\n",
       "      <th>0</th>\n",
       "      <td>ios</td>\n",
       "      <td>KIAE8730032E1E464393487AEF49FF1D2C</td>\n",
       "      <td>NaN</td>\n",
       "      <td>NaN</td>\n",
       "      <td>NaN</td>\n",
       "      <td>2016-11-07</td>\n",
       "      <td>2016-11-07 01:34:10</td>\n",
       "      <td>NaN</td>\n",
       "      <td>watched-ad</td>\n",
       "      <td>NaN</td>\n",
       "      <td>NaN</td>\n",
       "      <td>NaN</td>\n",
       "      <td>NaN</td>\n",
       "      <td>NaN</td>\n",
       "      <td>Wichita</td>\n",
       "      <td>KS</td>\n",
       "      <td>US</td>\n",
       "    </tr>\n",
       "    <tr>\n",
       "      <th>1</th>\n",
       "      <td>ios</td>\n",
       "      <td>KI15EED78458B2456C9D3A632B8D0D5433</td>\n",
       "      <td>NaN</td>\n",
       "      <td>NaN</td>\n",
       "      <td>233988.0</td>\n",
       "      <td>2016-11-07</td>\n",
       "      <td>2016-11-07 02:49:13</td>\n",
       "      <td>NaN</td>\n",
       "      <td>watched-ad</td>\n",
       "      <td>NaN</td>\n",
       "      <td>NaN</td>\n",
       "      <td>NaN</td>\n",
       "      <td>NaN</td>\n",
       "      <td>NaN</td>\n",
       "      <td>Danville</td>\n",
       "      <td>PA</td>\n",
       "      <td>US</td>\n",
       "    </tr>\n",
       "    <tr>\n",
       "      <th>2</th>\n",
       "      <td>ios</td>\n",
       "      <td>KI6CAE9F24F3B64919A911E541642EC2B7</td>\n",
       "      <td>NaN</td>\n",
       "      <td>NaN</td>\n",
       "      <td>235021.0</td>\n",
       "      <td>2016-11-07</td>\n",
       "      <td>2016-11-07 21:51:38</td>\n",
       "      <td>NaN</td>\n",
       "      <td>watched-ad</td>\n",
       "      <td>NaN</td>\n",
       "      <td>NaN</td>\n",
       "      <td>NaN</td>\n",
       "      <td>NaN</td>\n",
       "      <td>NaN</td>\n",
       "      <td>Pensacola</td>\n",
       "      <td>FL</td>\n",
       "      <td>US</td>\n",
       "    </tr>\n",
       "    <tr>\n",
       "      <th>3</th>\n",
       "      <td>ios</td>\n",
       "      <td>KIAC75F466A7D84C9E8D427ADFE76FC270</td>\n",
       "      <td>NaN</td>\n",
       "      <td>NaN</td>\n",
       "      <td>233746.0</td>\n",
       "      <td>2016-11-07</td>\n",
       "      <td>2016-11-07 00:40:23</td>\n",
       "      <td>NaN</td>\n",
       "      <td>watched-ad</td>\n",
       "      <td>NaN</td>\n",
       "      <td>NaN</td>\n",
       "      <td>NaN</td>\n",
       "      <td>NaN</td>\n",
       "      <td>NaN</td>\n",
       "      <td>NaN</td>\n",
       "      <td>NaN</td>\n",
       "      <td>US</td>\n",
       "    </tr>\n",
       "    <tr>\n",
       "      <th>4</th>\n",
       "      <td>ios</td>\n",
       "      <td>KIA3C08F07A6C244AE953DB9AF933DB44C</td>\n",
       "      <td>NaN</td>\n",
       "      <td>NaN</td>\n",
       "      <td>233981.0</td>\n",
       "      <td>2016-11-07</td>\n",
       "      <td>2016-11-07 01:15:24</td>\n",
       "      <td>NaN</td>\n",
       "      <td>visited-show</td>\n",
       "      <td>NaN</td>\n",
       "      <td>556f360a6b66d1227a5a4a7b</td>\n",
       "      <td>NaN</td>\n",
       "      <td>NaN</td>\n",
       "      <td>NaN</td>\n",
       "      <td>Caguas</td>\n",
       "      <td>00</td>\n",
       "      <td>PR</td>\n",
       "    </tr>\n",
       "  </tbody>\n",
       "</table>\n",
       "</div>"
      ],
      "text/plain": [
       "  platform                           viewer_id cross_app_id cross_app_id.1  \\\n",
       "0      ios  KIAE8730032E1E464393487AEF49FF1D2C          NaN            NaN   \n",
       "1      ios  KI15EED78458B2456C9D3A632B8D0D5433          NaN            NaN   \n",
       "2      ios  KI6CAE9F24F3B64919A911E541642EC2B7          NaN            NaN   \n",
       "3      ios  KIAC75F466A7D84C9E8D427ADFE76FC270          NaN            NaN   \n",
       "4      ios  KIA3C08F07A6C244AE953DB9AF933DB44C          NaN            NaN   \n",
       "\n",
       "   install_id received_date            timestamp authenticated    event_name  \\\n",
       "0         NaN    2016-11-07  2016-11-07 01:34:10           NaN    watched-ad   \n",
       "1    233988.0    2016-11-07  2016-11-07 02:49:13           NaN    watched-ad   \n",
       "2    235021.0    2016-11-07  2016-11-07 21:51:38           NaN    watched-ad   \n",
       "3    233746.0    2016-11-07  2016-11-07 00:40:23           NaN    watched-ad   \n",
       "4    233981.0    2016-11-07  2016-11-07 01:15:24           NaN  visited-show   \n",
       "\n",
       "  video_id                   show_id  season_number  episode_number  \\\n",
       "0      NaN                       NaN            NaN             NaN   \n",
       "1      NaN                       NaN            NaN             NaN   \n",
       "2      NaN                       NaN            NaN             NaN   \n",
       "3      NaN                       NaN            NaN             NaN   \n",
       "4      NaN  556f360a6b66d1227a5a4a7b            NaN             NaN   \n",
       "\n",
       "  attribution_network_id   geo_city geo_region geo_country  \n",
       "0                    NaN    Wichita         KS          US  \n",
       "1                    NaN   Danville         PA          US  \n",
       "2                    NaN  Pensacola         FL          US  \n",
       "3                    NaN        NaN        NaN          US  \n",
       "4                    NaN     Caguas         00          PR  "
      ]
     },
     "execution_count": 129,
     "metadata": {},
     "output_type": "execute_result"
    }
   ],
   "source": [
    "#first five rows of table\n",
    "event_tbl.head(5)"
   ]
  },
  {
   "cell_type": "code",
   "execution_count": 130,
   "metadata": {},
   "outputs": [
    {
     "data": {
      "text/plain": [
       "(430272, 17)"
      ]
     },
     "execution_count": 130,
     "metadata": {},
     "output_type": "execute_result"
    }
   ],
   "source": [
    "#check for duplicates\n",
    "event_tbl[event_tbl.duplicated()].shape"
   ]
  },
  {
   "cell_type": "code",
   "execution_count": 131,
   "metadata": {},
   "outputs": [
    {
     "data": {
      "text/html": [
       "<div>\n",
       "<table border=\"1\" class=\"dataframe\">\n",
       "  <thead>\n",
       "    <tr style=\"text-align: right;\">\n",
       "      <th></th>\n",
       "      <th>platform</th>\n",
       "      <th>viewer_id</th>\n",
       "      <th>cross_app_id</th>\n",
       "      <th>cross_app_id.1</th>\n",
       "      <th>received_date</th>\n",
       "      <th>timestamp</th>\n",
       "      <th>authenticated</th>\n",
       "      <th>event_name</th>\n",
       "      <th>video_id</th>\n",
       "      <th>show_id</th>\n",
       "      <th>attribution_network_id</th>\n",
       "      <th>geo_city</th>\n",
       "      <th>geo_region</th>\n",
       "      <th>geo_country</th>\n",
       "    </tr>\n",
       "  </thead>\n",
       "  <tbody>\n",
       "    <tr>\n",
       "      <th>count</th>\n",
       "      <td>702852</td>\n",
       "      <td>702852</td>\n",
       "      <td>590340</td>\n",
       "      <td>590340</td>\n",
       "      <td>702852</td>\n",
       "      <td>702852</td>\n",
       "      <td>5963</td>\n",
       "      <td>702852</td>\n",
       "      <td>57191</td>\n",
       "      <td>118300</td>\n",
       "      <td>32997</td>\n",
       "      <td>610276</td>\n",
       "      <td>648669</td>\n",
       "      <td>702852</td>\n",
       "    </tr>\n",
       "    <tr>\n",
       "      <th>unique</th>\n",
       "      <td>2</td>\n",
       "      <td>17502</td>\n",
       "      <td>14986</td>\n",
       "      <td>14907</td>\n",
       "      <td>65</td>\n",
       "      <td>644430</td>\n",
       "      <td>1</td>\n",
       "      <td>5</td>\n",
       "      <td>845</td>\n",
       "      <td>84</td>\n",
       "      <td>8</td>\n",
       "      <td>3830</td>\n",
       "      <td>75</td>\n",
       "      <td>34</td>\n",
       "    </tr>\n",
       "    <tr>\n",
       "      <th>top</th>\n",
       "      <td>ios</td>\n",
       "      <td>KI0BAD09DBE68149FBADFA03281945ECF3</td>\n",
       "      <td>a4a2bef7-bf06-4889-b98f-a34b3dd07240</td>\n",
       "      <td>ADBCE276-46CC-8DE1-18B6AD5C8F14</td>\n",
       "      <td>2017-01-07</td>\n",
       "      <td>2016-12-10 11:13:28</td>\n",
       "      <td>True</td>\n",
       "      <td>watched-ad</td>\n",
       "      <td>5846d1d76b66d1643a403c71</td>\n",
       "      <td>556f38e06b66d1227a5a4a8b</td>\n",
       "      <td>90</td>\n",
       "      <td>Dallas</td>\n",
       "      <td>TX</td>\n",
       "      <td>US</td>\n",
       "    </tr>\n",
       "    <tr>\n",
       "      <th>freq</th>\n",
       "      <td>583551</td>\n",
       "      <td>4480</td>\n",
       "      <td>4412</td>\n",
       "      <td>4412</td>\n",
       "      <td>19517</td>\n",
       "      <td>8</td>\n",
       "      <td>5963</td>\n",
       "      <td>555897</td>\n",
       "      <td>1696</td>\n",
       "      <td>22186</td>\n",
       "      <td>19226</td>\n",
       "      <td>8978</td>\n",
       "      <td>71765</td>\n",
       "      <td>697675</td>\n",
       "    </tr>\n",
       "  </tbody>\n",
       "</table>\n",
       "</div>"
      ],
      "text/plain": [
       "       platform                           viewer_id  \\\n",
       "count    702852                              702852   \n",
       "unique        2                               17502   \n",
       "top         ios  KI0BAD09DBE68149FBADFA03281945ECF3   \n",
       "freq     583551                                4480   \n",
       "\n",
       "                                cross_app_id                   cross_app_id.1  \\\n",
       "count                                 590340                           590340   \n",
       "unique                                 14986                            14907   \n",
       "top     a4a2bef7-bf06-4889-b98f-a34b3dd07240  ADBCE276-46CC-8DE1-18B6AD5C8F14   \n",
       "freq                                    4412                             4412   \n",
       "\n",
       "       received_date            timestamp authenticated  event_name  \\\n",
       "count         702852               702852          5963      702852   \n",
       "unique            65               644430             1           5   \n",
       "top       2017-01-07  2016-12-10 11:13:28          True  watched-ad   \n",
       "freq           19517                    8          5963      555897   \n",
       "\n",
       "                        video_id                   show_id  \\\n",
       "count                      57191                    118300   \n",
       "unique                       845                        84   \n",
       "top     5846d1d76b66d1643a403c71  556f38e06b66d1227a5a4a8b   \n",
       "freq                        1696                     22186   \n",
       "\n",
       "       attribution_network_id geo_city geo_region geo_country  \n",
       "count                   32997   610276     648669      702852  \n",
       "unique                      8     3830         75          34  \n",
       "top                        90   Dallas         TX          US  \n",
       "freq                    19226     8978      71765      697675  "
      ]
     },
     "execution_count": 131,
     "metadata": {},
     "output_type": "execute_result"
    }
   ],
   "source": [
    "#remove duplicates and get basic summary of data\n",
    "event_tbl = event_tbl.drop_duplicates()\n",
    "event_tbl.describe(include=[np.object])"
   ]
  },
  {
   "cell_type": "code",
   "execution_count": 132,
   "metadata": {},
   "outputs": [],
   "source": [
    "#convert datetime variable to datetime\n",
    "event_tbl['timestamp']= pd.to_datetime(event_tbl['timestamp'])"
   ]
  },
  {
   "cell_type": "code",
   "execution_count": 133,
   "metadata": {},
   "outputs": [
    {
     "data": {
      "text/plain": [
       "2016-12-30    481\n",
       "2017-01-02    393\n",
       "Name: received_date, dtype: int64"
      ]
     },
     "execution_count": 133,
     "metadata": {},
     "output_type": "execute_result"
    }
   ],
   "source": [
    "event_tbl[(event_tbl['viewer_id']=='KI0BAD09DBE68149FBADFA03281945ECF3') & (event_tbl['event_name']=='watched-ad')]['received_date'].value_counts()[0:2]\n"
   ]
  },
  {
   "cell_type": "code",
   "execution_count": 101,
   "metadata": {},
   "outputs": [
    {
     "data": {
      "text/plain": [
       "<matplotlib.axes._subplots.AxesSubplot at 0x10f1c4d90>"
      ]
     },
     "execution_count": 101,
     "metadata": {},
     "output_type": "execute_result"
    },
    {
     "data": {
      "image/png": "[encoded data removed]",
      "text/plain": [
       "<Figure size 720x360 with 1 Axes>"
      ]
     },
     "metadata": {
      "needs_background": "light"
     },
     "output_type": "display_data"
    }
   ],
   "source": [
    "#plot of events over time\n",
    "event_tbl['received_date'].value_counts().sort_index().plot(figsize=(10,5))"
   ]
  },
  {
   "cell_type": "markdown",
   "metadata": {},
   "source": [
    "So, we see a general upward trend for events over time in this data set.  "
   ]
  },
  {
   "cell_type": "code",
   "execution_count": 134,
   "metadata": {},
   "outputs": [
    {
     "data": {
      "text/plain": [
       "90       0.400214\n",
       "1,050    0.354177\n",
       "3,881    0.194649\n",
       "711      0.021773\n",
       "912      0.011628\n",
       "65       0.009314\n",
       "4,291    0.005814\n",
       "712      0.002432\n",
       "Name: attribution_network_id, dtype: float64"
      ]
     },
     "execution_count": 134,
     "metadata": {},
     "output_type": "execute_result"
    }
   ],
   "source": [
    "event_tbl[event_tbl['event_name']=='watched-ad']['attribution_network_id'].value_counts(normalize=True)"
   ]
  },
  {
   "cell_type": "markdown",
   "metadata": {},
   "source": [
    "90 is the most common attribution_network tied to the 'watched-ads' event.  \n",
    "\n",
    "What can we see when looking at location of events?"
   ]
  },
  {
   "cell_type": "code",
   "execution_count": 116,
   "metadata": {},
   "outputs": [
    {
     "data": {
      "text/plain": [
       "Dallas         0.014711\n",
       "Houston        0.013610\n",
       "San Antonio    0.010830\n",
       "Denver         0.009343\n",
       "Brooklyn       0.008488\n",
       "Yuba City      0.007875\n",
       "Clearwater     0.007652\n",
       "Buena Park     0.007580\n",
       "Las Vegas      0.007441\n",
       "Los Angeles    0.007166\n",
       "Name: geo_city, dtype: float64"
      ]
     },
     "execution_count": 116,
     "metadata": {},
     "output_type": "execute_result"
    }
   ],
   "source": [
    "event_tbl['geo_city'].value_counts(normalize=True)[0:10]"
   ]
  },
  {
   "cell_type": "code",
   "execution_count": 117,
   "metadata": {},
   "outputs": [
    {
     "data": {
      "text/plain": [
       "TX    0.110634\n",
       "CA    0.098926\n",
       "FL    0.069686\n",
       "NY    0.048601\n",
       "GA    0.040444\n",
       "NC    0.038339\n",
       "IL    0.037498\n",
       "MI    0.037489\n",
       "WA    0.037024\n",
       "PA    0.033774\n",
       "Name: geo_region, dtype: float64"
      ]
     },
     "execution_count": 117,
     "metadata": {},
     "output_type": "execute_result"
    }
   ],
   "source": [
    "event_tbl['geo_region'].value_counts(normalize=True)[0:10]"
   ]
  },
  {
   "cell_type": "markdown",
   "metadata": {},
   "source": [
    "Dallas is the most frequent city and TX the most frequently represented state.  This is helpful to know when considering which users to target.  "
   ]
  }
 ],
 "metadata": {
  "kernelspec": {
   "display_name": "Python 2",
   "language": "python",
   "name": "python2"
  },
  "language_info": {
   "codemirror_mode": {
    "name": "ipython",
    "version": 2
   },
   "file_extension": ".py",
   "mimetype": "text/x-python",
   "name": "python",
   "nbconvert_exporter": "python",
   "pygments_lexer": "ipython2",
   "version": "2.7.13"
  }
 },
 "nbformat": 4,
 "nbformat_minor": 2
}
